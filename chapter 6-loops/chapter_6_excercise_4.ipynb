{
  "nbformat": 4,
  "nbformat_minor": 0,
  "metadata": {
    "colab": {
      "provenance": [],
      "authorship_tag": "ABX9TyPtefKBzyIdwkllntRdNChO",
      "include_colab_link": true
    },
    "kernelspec": {
      "name": "python3",
      "display_name": "Python 3"
    },
    "language_info": {
      "name": "python"
    }
  },
  "cells": [
    {
      "cell_type": "markdown",
      "metadata": {
        "id": "view-in-github",
        "colab_type": "text"
      },
      "source": [
        "<a href=\"https://colab.research.google.com/github/Raheelsaeed007/raheel_codelab1/blob/main/chapter%206-loops/chapter_6_excercise_4.ipynb\" target=\"_parent\"><img src=\"https://colab.research.google.com/assets/colab-badge.svg\" alt=\"Open In Colab\"/></a>"
      ]
    },
    {
      "cell_type": "code",
      "execution_count": null,
      "metadata": {
        "colab": {
          "base_uri": "https://localhost:8080/"
        },
        "id": "Z3YNyfBxVCiD",
        "outputId": "029a45a6-1883-4953-903d-10c7317be50b"
      },
      "outputs": [
        {
          "output_type": "stream",
          "name": "stdout",
          "text": [
            "here is yourvegetablesandwich\n",
            "\n",
            "\n",
            "sandwich_orders:\n",
            "vegetable sandwich\n",
            "here is yourbeefsandwich\n",
            "\n",
            "\n",
            "sandwich_orders:\n",
            "vegetable sandwich\n",
            "beef sandwich\n",
            "here is yourchickensandwich\n",
            "\n",
            "\n",
            "sandwich_orders:\n",
            "vegetable sandwich\n",
            "beef sandwich\n",
            "chicken sandwich\n"
          ]
        }
      ],
      "source": [
        "#Deli\n",
        "#make a list called sandwich_orders\n",
        "\n",
        "sandwich_orders= ['chicken','beef','vegetable']\n",
        "finished_sandwich=[]\n",
        "\n",
        "while sandwich_orders:\n",
        "  current_sandwich=sandwich_orders.pop()\n",
        "  print(\"here is your\"+ current_sandwich+\"sandwich\")\n",
        "  finished_sandwich.append(current_sandwich)\n",
        "\n",
        "  print(\"\\n\")\n",
        "  print('sandwich_orders:')\n",
        "  for sandwich in finished_sandwich:\n",
        "    print(sandwich,'sandwich')"
      ]
    }
  ]
}