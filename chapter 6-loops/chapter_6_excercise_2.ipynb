{
  "nbformat": 4,
  "nbformat_minor": 0,
  "metadata": {
    "colab": {
      "provenance": [],
      "authorship_tag": "ABX9TyOyUgiT8yeYhDQ6MZ0oeU4e",
      "include_colab_link": true
    },
    "kernelspec": {
      "name": "python3",
      "display_name": "Python 3"
    },
    "language_info": {
      "name": "python"
    }
  },
  "cells": [
    {
      "cell_type": "markdown",
      "metadata": {
        "id": "view-in-github",
        "colab_type": "text"
      },
      "source": [
        "<a href=\"https://colab.research.google.com/github/Raheelsaeed007/raheel_codelab1/blob/main/chapter%206-loops/chapter_6_excercise_2.ipynb\" target=\"_parent\"><img src=\"https://colab.research.google.com/assets/colab-badge.svg\" alt=\"Open In Colab\"/></a>"
      ]
    },
    {
      "cell_type": "code",
      "execution_count": 5,
      "metadata": {
        "colab": {
          "base_uri": "https://localhost:8080/"
        },
        "id": "eqo1OVRxPb0A",
        "outputId": "6d75c96d-366a-4c63-8114-445e521ac108"
      },
      "outputs": [
        {
          "output_type": "stream",
          "name": "stdout",
          "text": [
            "\n",
            "please enter your age:18\n",
            "your ticket cost is 15$\n"
          ]
        }
      ],
      "source": [
        "#Movie Tickets\n",
        "\n",
        "age='\\nplease enter your age:'\n",
        "while True:\n",
        "  age=input(age)\n",
        "\n",
        "  break\n",
        "if int(age) < 3:\n",
        "   print(\"your ticket is free\")\n",
        "\n",
        "elif int(age) <= 12:\n",
        "  print(\"your ticket cost is 10$\")\n",
        "\n",
        "else:\n",
        "   print(\"your ticket cost is 15$\") "
      ]
    }
  ]
}