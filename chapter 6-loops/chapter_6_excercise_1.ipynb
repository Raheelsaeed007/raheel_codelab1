{
  "nbformat": 4,
  "nbformat_minor": 0,
  "metadata": {
    "colab": {
      "provenance": [],
      "authorship_tag": "ABX9TyN261Nue9wneqQE33pt3OD/",
      "include_colab_link": true
    },
    "kernelspec": {
      "name": "python3",
      "display_name": "Python 3"
    },
    "language_info": {
      "name": "python"
    }
  },
  "cells": [
    {
      "cell_type": "markdown",
      "metadata": {
        "id": "view-in-github",
        "colab_type": "text"
      },
      "source": [
        "<a href=\"https://colab.research.google.com/github/Raheelsaeed007/raheel_codelab1/blob/main/chapter%206-loops/chapter_6_excercise_1.ipynb\" target=\"_parent\"><img src=\"https://colab.research.google.com/assets/colab-badge.svg\" alt=\"Open In Colab\"/></a>"
      ]
    },
    {
      "cell_type": "code",
      "execution_count": 3,
      "metadata": {
        "colab": {
          "base_uri": "https://localhost:8080/"
        },
        "id": "N7roxU9HEFqg",
        "outputId": "e199b990-1f5b-4e7a-be5f-f46c7821ba2a"
      },
      "outputs": [
        {
          "name": "stdout",
          "output_type": "stream",
          "text": [
            "\n",
            "please enter the name of the toppings you love to have:\n",
            "please quit when you are finishedchicken\n",
            "\n",
            "please enter the name of the toppings you love to have:\n",
            "please quit when you are finishedmushroom\n",
            "\n",
            "please enter the name of the toppings you love to have:\n",
            "please quit when you are finishedonion\n",
            "\n",
            "please enter the name of the toppings you love to have:\n",
            "please quit when you are finishedsusage\n",
            "\n",
            "please enter the name of the toppings you love to have:\n",
            "please quit when you are finishedquit\n"
          ]
        }
      ],
      "source": [
        "#EXCERCISE 1:Pizza Toppings\n",
        "#print a message saying you will add that topping to their pizza.\n",
        "\n",
        "pizza_toppings='\\nplease enter the name of the toppings you love to have:'\n",
        "pizza_toppings+='\\nplease quit when you are finished'\n",
        "while True:\n",
        "  pizza=input(pizza_toppings)\n",
        "\n",
        "  if pizza=='quit':\n",
        "    break\n",
        "else:\n",
        "    print('I would love to have',pizza.title(),'!')\n",
        "    print('I would love to have',pizza.title(),'!')"
      ]
    }
  ]
}