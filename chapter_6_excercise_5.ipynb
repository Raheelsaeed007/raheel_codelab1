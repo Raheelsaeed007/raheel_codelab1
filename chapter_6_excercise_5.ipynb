{
  "nbformat": 4,
  "nbformat_minor": 0,
  "metadata": {
    "colab": {
      "provenance": [],
      "authorship_tag": "ABX9TyNSeCHB472rcYjfV4nVf9+9",
      "include_colab_link": true
    },
    "kernelspec": {
      "name": "python3",
      "display_name": "Python 3"
    },
    "language_info": {
      "name": "python"
    }
  },
  "cells": [
    {
      "cell_type": "markdown",
      "metadata": {
        "id": "view-in-github",
        "colab_type": "text"
      },
      "source": [
        "<a href=\"https://colab.research.google.com/github/Raheelsaeed007/raheel_codelab1/blob/main/chapter_6_excercise_5.ipynb\" target=\"_parent\"><img src=\"https://colab.research.google.com/assets/colab-badge.svg\" alt=\"Open In Colab\"/></a>"
      ]
    },
    {
      "cell_type": "code",
      "execution_count": null,
      "metadata": {
        "colab": {
          "base_uri": "https://localhost:8080/"
        },
        "id": "AIXqy6jHju-g",
        "outputId": "6f7e520b-d64c-4602-d44f-a936c7a66294"
      },
      "outputs": [
        {
          "output_type": "stream",
          "name": "stdout",
          "text": [
            "dell has run out of pastrami\n",
            "['chicken', 'vegetable', 'beef']\n"
          ]
        }
      ],
      "source": [
        "#pastrami\n",
        "#sandwich orders\n",
        "\n",
        "sandwich_orders = ['chicken','vegetable','beef','pastrami']#some of sandwich orders\n",
        "#dell ran out of time\n",
        "print('dell has run out of pastrami')\n",
        "while 'pastrami'in sandwich_orders:  #using while loop\n",
        "   sandwich_orders.remove('pastrami')#remove pastrami \n",
        "\n",
        "   print(sandwich_orders)  #printing orders"
      ]
    }
  ]
}