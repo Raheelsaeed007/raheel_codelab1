{
  "nbformat": 4,
  "nbformat_minor": 0,
  "metadata": {
    "colab": {
      "provenance": [],
      "authorship_tag": "ABX9TyOkAeWorTP3rl4xyM4ymbFz",
      "include_colab_link": true
    },
    "kernelspec": {
      "name": "python3",
      "display_name": "Python 3"
    },
    "language_info": {
      "name": "python"
    }
  },
  "cells": [
    {
      "cell_type": "markdown",
      "metadata": {
        "id": "view-in-github",
        "colab_type": "text"
      },
      "source": [
        "<a href=\"https://colab.research.google.com/github/Raheelsaeed007/raheel_codelab1/blob/main/chapter%204/Exercises/chapter%204%20excercise3.ipynb\" target=\"_parent\"><img src=\"https://colab.research.google.com/assets/colab-badge.svg\" alt=\"Open In Colab\"/></a>"
      ]
    },
    {
      "cell_type": "code",
      "execution_count": null,
      "metadata": {
        "colab": {
          "base_uri": "https://localhost:8080/"
        },
        "id": "FTdU1CcAs1x2",
        "outputId": "968c28b7-bbeb-44f6-8233-1a55bf6af340"
      },
      "outputs": [
        {
          "output_type": "stream",
          "name": "stdout",
          "text": [
            "you earned 10 points.\n"
          ]
        }
      ],
      "source": [
        "#write three versions of program making sure each msg is printed for appropriate color\n",
        "#we are going to use three loops or versions for this program\n",
        "#if\n",
        "#elif\n",
        "#else\n",
        "\n",
        "alien_color=\"yellow\"  #my alien color\n",
        "\n",
        "if alien_color==\"green\": #if statement\n",
        "   print('you earned 5 points.')\n",
        "elif alien_color==\"yellow\":  #elif statement\n",
        "   print('you earned 10 points.')\n",
        "else:   #else statement\n",
        "   print('youn earned 15 points.')\n"
      ]
    }
  ]
}