{
  "nbformat": 4,
  "nbformat_minor": 0,
  "metadata": {
    "colab": {
      "provenance": [],
      "authorship_tag": "ABX9TyPCBMn5s+GimQjs38K0QgrV",
      "include_colab_link": true
    },
    "kernelspec": {
      "name": "python3",
      "display_name": "Python 3"
    },
    "language_info": {
      "name": "python"
    }
  },
  "cells": [
    {
      "cell_type": "markdown",
      "metadata": {
        "id": "view-in-github",
        "colab_type": "text"
      },
      "source": [
        "<a href=\"https://colab.research.google.com/github/Raheelsaeed007/raheel_codelab1/blob/main/chapter%204/Exercises/chapter%204%20%20excercise1.ipynb\" target=\"_parent\"><img src=\"https://colab.research.google.com/assets/colab-badge.svg\" alt=\"Open In Colab\"/></a>"
      ]
    },
    {
      "cell_type": "code",
      "execution_count": null,
      "metadata": {
        "colab": {
          "base_uri": "https://localhost:8080/"
        },
        "id": "7hA8LNCO1RLd",
        "outputId": "7d63ab9e-8084-4233-d82d-beee9a6f1973"
      },
      "outputs": [
        {
          "output_type": "stream",
          "name": "stdout",
          "text": [
            "player earned 5 points\n"
          ]
        }
      ],
      "source": [
        "#if alien color is green player earned 5 points\n",
        "alien_color='green'\n",
        "if alien_color=='green': #using if loop\n",
        "  print('player earned 5 points') #if loop passes the test"
      ]
    },
    {
      "cell_type": "code",
      "source": [
        "#if alien color is not green player didn't earn points\n",
        "alien_color='yellow'\n",
        "if alien_color=='green':  #using if loop\n",
        "  print('player earned 5 points')  #if loop fails the test"
      ],
      "metadata": {
        "id": "uKjXhqup1U1p"
      },
      "execution_count": null,
      "outputs": []
    }
  ]
}