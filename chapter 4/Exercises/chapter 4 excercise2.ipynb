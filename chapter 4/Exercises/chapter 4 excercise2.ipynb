{
  "nbformat": 4,
  "nbformat_minor": 0,
  "metadata": {
    "colab": {
      "provenance": [],
      "authorship_tag": "ABX9TyMGhmzey1h+g85rDpEkVthP",
      "include_colab_link": true
    },
    "kernelspec": {
      "name": "python3",
      "display_name": "Python 3"
    },
    "language_info": {
      "name": "python"
    }
  },
  "cells": [
    {
      "cell_type": "markdown",
      "metadata": {
        "id": "view-in-github",
        "colab_type": "text"
      },
      "source": [
        "<a href=\"https://colab.research.google.com/github/Raheelsaeed007/raheel_codelab1/blob/main/chapter%204/Exercises/chapter%204%20excercise2.ipynb\" target=\"_parent\"><img src=\"https://colab.research.google.com/assets/colab-badge.svg\" alt=\"Open In Colab\"/></a>"
      ]
    },
    {
      "cell_type": "code",
      "source": [
        "#printing the else statement true\n",
        "alien_color='red'\n",
        "if alien_color=='green':  #using if loop\n",
        "  print('player earned 5 points')\n",
        "else: #using else statement\n",
        "    print('player earned 10 points')#printing"
      ],
      "metadata": {
        "colab": {
          "base_uri": "https://localhost:8080/"
        },
        "id": "6V3uA8VN6yBW",
        "outputId": "6b058ea1-0f0e-4086-c561-bf6582f4f54d"
      },
      "execution_count": null,
      "outputs": [
        {
          "output_type": "stream",
          "name": "stdout",
          "text": [
            "player earned 10 points\n"
          ]
        }
      ]
    },
    {
      "cell_type": "code",
      "source": [
        "#printing the if statement true\n",
        "alien_color='green'\n",
        "if alien_color=='green':#using if loop\n",
        "  print('player earned 5 points')\n",
        "else: #using else statement\n",
        "    print('player earned 10 points')#printing"
      ],
      "metadata": {
        "colab": {
          "base_uri": "https://localhost:8080/"
        },
        "id": "bfJ2bYLX97GC",
        "outputId": "c977b3d7-f696-41bb-b6cf-025f2e877fe3"
      },
      "execution_count": null,
      "outputs": [
        {
          "output_type": "stream",
          "name": "stdout",
          "text": [
            "player earned 5 points\n"
          ]
        }
      ]
    }
  ]
}