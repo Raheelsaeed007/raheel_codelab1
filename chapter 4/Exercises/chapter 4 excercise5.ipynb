{
  "nbformat": 4,
  "nbformat_minor": 0,
  "metadata": {
    "colab": {
      "provenance": [],
      "authorship_tag": "ABX9TyN/kOvcnhwf9d0lLygLcT3L",
      "include_colab_link": true
    },
    "kernelspec": {
      "name": "python3",
      "display_name": "Python 3"
    },
    "language_info": {
      "name": "python"
    }
  },
  "cells": [
    {
      "cell_type": "markdown",
      "metadata": {
        "id": "view-in-github",
        "colab_type": "text"
      },
      "source": [
        "<a href=\"https://colab.research.google.com/github/Raheelsaeed007/raheel_codelab1/blob/main/chapter%204/Exercises/chapter%204%20excercise5.ipynb\" target=\"_parent\"><img src=\"https://colab.research.google.com/assets/colab-badge.svg\" alt=\"Open In Colab\"/></a>"
      ]
    },
    {
      "cell_type": "code",
      "execution_count": null,
      "metadata": {
        "colab": {
          "base_uri": "https://localhost:8080/"
        },
        "id": "QnLdnGTKE3pV",
        "outputId": "df0fbcf2-7ba5-4299-ec41-6eaf47c537b7"
      },
      "outputs": [
        {
          "output_type": "stream",
          "name": "stdout",
          "text": [
            "you really like apples!\n",
            "you really like mangoes!\n",
            "you really like oranges!\n"
          ]
        }
      ],
      "source": [
        "#favourites fruits lists\n",
        "\n",
        "favourite_fruits=['apple','mango','orange'] #list of favourite druits\n",
        "\n",
        "if 'apple' in favourite_fruits:  #using if statements\n",
        "  print('you really like apples!')\n",
        "\n",
        "if  'mango' in favourite_fruits:  #using if statements\n",
        "  print('you really like mangoes!')\n",
        "\n",
        "if  'orange' in favourite_fruits:  #using if statements\n",
        "  print('you really like oranges!')\n",
        "\n",
        "if 'watermelon' in favourite_fruits:  #using if statements\n",
        "  print('you really like watermelons!')\n",
        "\n",
        "if 'peaches' in favourite_fruits:   #using if statements\n",
        "  print('you really like peaches!')"
      ]
    }
  ]
}