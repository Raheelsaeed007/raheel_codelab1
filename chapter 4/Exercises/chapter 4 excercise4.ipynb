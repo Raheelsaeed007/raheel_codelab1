{
  "nbformat": 4,
  "nbformat_minor": 0,
  "metadata": {
    "colab": {
      "provenance": [],
      "authorship_tag": "ABX9TyMOUPbW2olpuSOduld8waky",
      "include_colab_link": true
    },
    "kernelspec": {
      "name": "python3",
      "display_name": "Python 3"
    },
    "language_info": {
      "name": "python"
    }
  },
  "cells": [
    {
      "cell_type": "markdown",
      "metadata": {
        "id": "view-in-github",
        "colab_type": "text"
      },
      "source": [
        "<a href=\"https://colab.research.google.com/github/Raheelsaeed007/raheel_codelab1/blob/main/chapter%204/Exercises/chapter%204%20excercise4.ipynb\" target=\"_parent\"><img src=\"https://colab.research.google.com/assets/colab-badge.svg\" alt=\"Open In Colab\"/></a>"
      ]
    },
    {
      "cell_type": "code",
      "execution_count": null,
      "metadata": {
        "colab": {
          "base_uri": "https://localhost:8080/"
        },
        "id": "3IoPSqlQujhr",
        "outputId": "5d45a4ec-ce77-4e57-adec-90cb0715fac1"
      },
      "outputs": [
        {
          "output_type": "stream",
          "name": "stdout",
          "text": [
            "enter your age\n",
            "18\n",
            "you are a teenager\n"
          ]
        }
      ],
      "source": [
        "#if-elif-else chain that determines a person's stage of life\n",
        "#we will use 3 loops\n",
        "#if\n",
        "#elif\n",
        "#else\n",
        "print(\"enter your age\")   #asking user for age\n",
        "age=int(input())\n",
        "\n",
        "if age < 2:  #age less than 2\n",
        "  print(\"you are an infant\")\n",
        "\n",
        "elif age==2 or age < 4:   #age equal to 2 or less than 4\n",
        "  print(\"you are a toddler\")\n",
        "\n",
        "elif age==4 or age < 13:  #age equal to 4 or less than 13\n",
        "  print(\"you are a kid\")\n",
        "\n",
        "elif age==13 or age < 20:   #age equal to 13 or less than 20\n",
        "  print(\"you are a teenager\")\n",
        "\n",
        "elif age==20 or age < 65:   #age equal to 20 or less than 65\n",
        "  print(\"you are an adult\")\n",
        "\n",
        "  \n",
        "else:   #more than 65 age\n",
        "  print(\"you are an elder\")\n",
        "\n",
        "\n",
        "\n",
        "\n"
      ]
    }
  ]
}