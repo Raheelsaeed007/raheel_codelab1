{
  "nbformat": 4,
  "nbformat_minor": 0,
  "metadata": {
    "colab": {
      "provenance": [],
      "authorship_tag": "ABX9TyNcFpf+kcpfuYz4KqcH/432",
      "include_colab_link": true
    },
    "kernelspec": {
      "name": "python3",
      "display_name": "Python 3"
    },
    "language_info": {
      "name": "python"
    }
  },
  "cells": [
    {
      "cell_type": "markdown",
      "metadata": {
        "id": "view-in-github",
        "colab_type": "text"
      },
      "source": [
        "<a href=\"https://colab.research.google.com/github/Raheelsaeed007/raheel_codelab1/blob/main/chapter%205-dictionaries/chapter_5_excercise_3.ipynb\" target=\"_parent\"><img src=\"https://colab.research.google.com/assets/colab-badge.svg\" alt=\"Open In Colab\"/></a>"
      ]
    },
    {
      "cell_type": "code",
      "execution_count": null,
      "metadata": {
        "colab": {
          "base_uri": "https://localhost:8080/"
        },
        "id": "GameCbBLU07O",
        "outputId": "500c1b6a-d037-4680-94ec-da3c3b5e5165"
      },
      "outputs": [
        {
          "output_type": "stream",
          "name": "stdout",
          "text": [
            "\n",
            "Strings: In Python, string is an immutable sequence data type. It is the sequence of Unicode characters wrapped inside single, double, or triple quotes.\n",
            "\n",
            "Print: a variable type that is used to store floating point number values.\n",
            "\n",
            "Float: Float() is a method that returns a floating-point number for a provided number or string.\n",
            "\n",
            "If: it is a compound statement contains a group of other statements.\n",
            "\n",
            "Else: it is an alternative statement which is used if the previous statement is fase.\n",
            "\n",
            "Dictionary: A collection of key value pairs.\n",
            "\n",
            "Comment: A statement in program which python interpreter ignores.\n"
          ]
        }
      ],
      "source": [
        "#glossary 2\n",
        "#print a glossary consists of some python words and their definition\n",
        "#use for loop for finding the words in glossary\n",
        "glossary = {\n",
        "     'strings':'In Python, string is an immutable sequence data type. It is the sequence of Unicode characters wrapped inside single, double, or triple quotes.',\n",
        "    'print':'a variable type that is used to store floating point number values.',\n",
        "    'float':'Float() is a method that returns a floating-point number for a provided number or string.',\n",
        "    'if':'it is a compound statement contains a group of other statements.',\n",
        "    'else':'it is an alternative statement which is used if the previous statement is fase.',\n",
        "    'dictionary':'A collection of key value pairs.',\n",
        "    'comment':'A statement in program which python interpreter ignores.',\n",
        "}\n",
        "\n",
        "for word,definition in glossary.items():  #using for loop\n",
        "  print(f\"\\n{word.title()}: {definition}\")"
      ]
    }
  ]
}