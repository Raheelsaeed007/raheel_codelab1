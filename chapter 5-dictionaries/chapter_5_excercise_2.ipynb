{
  "nbformat": 4,
  "nbformat_minor": 0,
  "metadata": {
    "colab": {
      "provenance": [],
      "authorship_tag": "ABX9TyNJayJ6Gw0LSZBiwbeUfjJr",
      "include_colab_link": true
    },
    "kernelspec": {
      "name": "python3",
      "display_name": "Python 3"
    },
    "language_info": {
      "name": "python"
    }
  },
  "cells": [
    {
      "cell_type": "markdown",
      "metadata": {
        "id": "view-in-github",
        "colab_type": "text"
      },
      "source": [
        "<a href=\"https://colab.research.google.com/github/Raheelsaeed007/raheel_codelab1/blob/main/chapter%205-dictionaries/chapter_5_excercise_2.ipynb\" target=\"_parent\"><img src=\"https://colab.research.google.com/assets/colab-badge.svg\" alt=\"Open In Colab\"/></a>"
      ]
    },
    {
      "cell_type": "code",
      "execution_count": null,
      "metadata": {
        "colab": {
          "base_uri": "https://localhost:8080/"
        },
        "id": "LXlVoo__MOwY",
        "outputId": "b09a360b-553e-4b98-d06e-fc94f958d822"
      },
      "outputs": [
        {
          "output_type": "stream",
          "name": "stdout",
          "text": [
            "\n",
            "Strings:In Python, string is an immutable sequence data type. It is the sequence of Unicode characters wrapped inside single, double, or triple quotes.\n",
            "\n",
            "Print:a variable type that is used to store floating point number values.\n",
            "\n",
            "Float:Float() is a method that returns a floating-point number for a provided number or string.\n",
            "\n",
            "If:it is a compound statement contains a group of other statements.\n",
            "\n",
            "Else:it is an alternative statement which is used if the previous statement is fase.\n"
          ]
        }
      ],
      "source": [
        "#Glossary:think of 5 programming words you have learned.use these words in your glossary\n",
        "#5 python words\n",
        "glossary = {\n",
        "  'strings':'In Python, string is an immutable sequence data type. It is the sequence of Unicode characters wrapped inside single, double, or triple quotes.',   #1\n",
        "    'print':'a variable type that is used to store floating point number values.',  #2\n",
        "    'float':'Float() is a method that returns a floating-point number for a provided number or string.',  #3\n",
        "    'if':'it is a compound statement contains a group of other statements.',  #4\n",
        "    'else':'it is an alternative statement which is used if the previous statement is fase.',   #5\n",
        "}\n",
        "#printing each word seperatly\n",
        "word = 'strings'\n",
        "print(f\"\\n{word.title()}:{glossary[word]}\")\n",
        "#printing word seperatly\n",
        "word = 'print'\n",
        "print(f\"\\n{word.title()}:{glossary[word]}\")\n",
        "#printing word seprately\n",
        "word = 'float'\n",
        "print(f\"\\n{word.title()}:{glossary[word]}\")\n",
        "#printing word seprately\n",
        "word = 'if'\n",
        "print(f\"\\n{word.title()}:{glossary[word]}\")\n",
        "# using\\n for printing in new line\n",
        "word = 'else'\n",
        "print(f\"\\n{word.title()}:{glossary[word]}\")"
      ]
    }
  ]
}