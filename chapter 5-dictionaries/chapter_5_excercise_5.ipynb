{
  "nbformat": 4,
  "nbformat_minor": 0,
  "metadata": {
    "colab": {
      "provenance": [],
      "authorship_tag": "ABX9TyNS4wZg1fpAnVJ2ao4GdxIo",
      "include_colab_link": true
    },
    "kernelspec": {
      "name": "python3",
      "display_name": "Python 3"
    },
    "language_info": {
      "name": "python"
    }
  },
  "cells": [
    {
      "cell_type": "markdown",
      "metadata": {
        "id": "view-in-github",
        "colab_type": "text"
      },
      "source": [
        "<a href=\"https://colab.research.google.com/github/Raheelsaeed007/raheel_codelab1/blob/main/chapter%205-dictionaries/chapter_5_excercise_5.ipynb\" target=\"_parent\"><img src=\"https://colab.research.google.com/assets/colab-badge.svg\" alt=\"Open In Colab\"/></a>"
      ]
    },
    {
      "cell_type": "code",
      "execution_count": null,
      "metadata": {
        "colab": {
          "base_uri": "https://localhost:8080/"
        },
        "id": "JN-Ah7DtGfX4",
        "outputId": "e979b663-dd46-405a-d117-3b0a361a25ba"
      },
      "outputs": [
        {
          "output_type": "stream",
          "name": "stdout",
          "text": [
            "\n",
            "All the information known about Max:\n",
            "\tanimal:Dog\n",
            "\tname:max\n",
            "\towner:John\n",
            "\tweight:14\n",
            "\tfood:kibble\n",
            "\n",
            "All the information known about Rami:\n",
            "\tanimal:goat\n",
            "\tname:rami\n",
            "\towner:ramsey\n",
            "\tweight:24\n",
            "\tfood:grass\n",
            "\n",
            "All the information known about Philip:\n",
            "\tanimal:horse\n",
            "\tname:philip\n",
            "\towner:peter\n",
            "\tweight:199\n",
            "\tfood:forage\n"
          ]
        }
      ],
      "source": [
        "#Chapter 5 Exercise 5 \"Pets\"\n",
        "\n",
        "\n",
        "pets=[]  #pets charachteristics\n",
        "\n",
        "#First list\n",
        "pet={\n",
        "    'animal' :'Dog',\n",
        "     'name'  :'max',\n",
        "     'owner' :'John',\n",
        "     'weight':14,\n",
        "     'food'  :'kibble',\n",
        "}\n",
        "pets.append(pet)  #appending pets \n",
        "#Second list\n",
        "pet={\n",
        "    'animal' :'goat',\n",
        "     'name'  :'rami',\n",
        "     'owner' :'ramsey',\n",
        "     'weight':24,\n",
        "     'food'  :'grass',\n",
        "}\n",
        "pets.append(pet)\n",
        "#Third list\n",
        "pet={\n",
        "    'animal' :'horse',\n",
        "     'name'  :'philip',\n",
        "     'owner' :'peter',\n",
        "     'weight':199,\n",
        "     'food'  :'forage',\n",
        "}\n",
        "pets.append(pet)\n",
        "\n",
        "for pet in pets:  #using for loop\n",
        "    print(f\"\\nAll the information known about {pet['name'].title()}:\")  #printing information about pets in new line\n",
        "    for key, value in pet.items():  #again using for loop\n",
        "        print(f\"\\t{key}:{value}\")  #print key value"
      ]
    }
  ]
}