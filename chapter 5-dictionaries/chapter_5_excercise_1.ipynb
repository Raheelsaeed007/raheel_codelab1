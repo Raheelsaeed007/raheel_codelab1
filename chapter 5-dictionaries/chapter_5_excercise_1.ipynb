{
  "nbformat": 4,
  "nbformat_minor": 0,
  "metadata": {
    "colab": {
      "provenance": [],
      "authorship_tag": "ABX9TyPdXmIamLGfklaKfp+E9TuT",
      "include_colab_link": true
    },
    "kernelspec": {
      "name": "python3",
      "display_name": "Python 3"
    },
    "language_info": {
      "name": "python"
    }
  },
  "cells": [
    {
      "cell_type": "markdown",
      "metadata": {
        "id": "view-in-github",
        "colab_type": "text"
      },
      "source": [
        "<a href=\"https://colab.research.google.com/github/Raheelsaeed007/raheel_codelab1/blob/main/chapter%205-dictionaries/chapter_5_excercise_1.ipynb\" target=\"_parent\"><img src=\"https://colab.research.google.com/assets/colab-badge.svg\" alt=\"Open In Colab\"/></a>"
      ]
    },
    {
      "cell_type": "code",
      "execution_count": null,
      "metadata": {
        "colab": {
          "base_uri": "https://localhost:8080/"
        },
        "id": "owyA_k2R2-xx",
        "outputId": "3a260e50-d04b-4d99-a3c2-d1fc8c618fbc"
      },
      "outputs": [
        {
          "output_type": "stream",
          "name": "stdout",
          "text": [
            "harris\n",
            "parvez\n",
            "18\n",
            "peshawar\n"
          ]
        }
      ],
      "source": [
        "#use a dictionary to store information about a person you know\n",
        "#printing them in new line\n",
        "dictionary={\"first_name\":\"harris\",\"last_name\":\"parvez\",\"age\":\"18\",\"city\":\"peshawar\"} #using name, age,city\n",
        "print(dictionary[\"first_name\"]) #first name\n",
        "print(dictionary[\"last_name\"])  #last name\n",
        "print(dictionary[\"age\"]) #age\n",
        "print(dictionary[\"city\"])  #city"
      ]
    }
  ]
}