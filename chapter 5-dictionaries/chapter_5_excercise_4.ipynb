{
  "nbformat": 4,
  "nbformat_minor": 0,
  "metadata": {
    "colab": {
      "provenance": [],
      "authorship_tag": "ABX9TyM5T/jysWJaA7x9hdUtv7zo",
      "include_colab_link": true
    },
    "kernelspec": {
      "name": "python3",
      "display_name": "Python 3"
    },
    "language_info": {
      "name": "python"
    }
  },
  "cells": [
    {
      "cell_type": "markdown",
      "metadata": {
        "id": "view-in-github",
        "colab_type": "text"
      },
      "source": [
        "<a href=\"https://colab.research.google.com/github/Raheelsaeed007/raheel_codelab1/blob/main/chapter%205-dictionaries/chapter_5_excercise_4.ipynb\" target=\"_parent\"><img src=\"https://colab.research.google.com/assets/colab-badge.svg\" alt=\"Open In Colab\"/></a>"
      ]
    },
    {
      "cell_type": "code",
      "execution_count": null,
      "metadata": {
        "colab": {
          "base_uri": "https://localhost:8080/"
        },
        "id": "q84GxzrOXiBH",
        "outputId": "88f38141-fcbd-46b9-e2e0-9153ca87cb28"
      },
      "outputs": [
        {
          "output_type": "stream",
          "name": "stdout",
          "text": [
            "The Ganges flows through India.\n",
            "The Amazon flows through Colombia.\n",
            "The Ravi flows through Pakistan.\n"
          ]
        }
      ],
      "source": [
        "#Rivers:make a dictionary containing three major rivers and the country each rivers run through.\n",
        "\n",
        "rivers = {\n",
        "  'Ganges':  'india', #river and the country which it runs through\n",
        "  'Amazon': 'colombia',  #river and the country which it runs\n",
        "  'Ravi':  'pakistan',   #river and the country which it runs through\n",
        "    }\n",
        "\n",
        "for river, country in rivers.items():  #using for loop\n",
        "  print(f\"The {river.title()} flows through {country.title()}.\")  #printing the sentence\n"
      ]
    }
  ]
}