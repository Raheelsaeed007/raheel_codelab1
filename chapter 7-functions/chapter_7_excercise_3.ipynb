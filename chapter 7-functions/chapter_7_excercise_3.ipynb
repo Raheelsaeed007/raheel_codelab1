{
  "nbformat": 4,
  "nbformat_minor": 0,
  "metadata": {
    "colab": {
      "provenance": [],
      "authorship_tag": "ABX9TyN8vWgu30G+/U0eZ2CLOsZQ",
      "include_colab_link": true
    },
    "kernelspec": {
      "name": "python3",
      "display_name": "Python 3"
    },
    "language_info": {
      "name": "python"
    }
  },
  "cells": [
    {
      "cell_type": "markdown",
      "metadata": {
        "id": "view-in-github",
        "colab_type": "text"
      },
      "source": [
        "<a href=\"https://colab.research.google.com/github/Raheelsaeed007/raheel_codelab1/blob/main/chapter%207-functions/chapter_7_excercise_3.ipynb\" target=\"_parent\"><img src=\"https://colab.research.google.com/assets/colab-badge.svg\" alt=\"Open In Colab\"/></a>"
      ]
    },
    {
      "cell_type": "code",
      "execution_count": null,
      "metadata": {
        "colab": {
          "base_uri": "https://localhost:8080/"
        },
        "id": "TRFZjw2OI15S",
        "outputId": "020bc76c-058b-4e33-bdc8-a5751cdd3a77"
      },
      "outputs": [
        {
          "output_type": "stream",
          "name": "stdout",
          "text": [
            "\n",
            "The size of the shirt is 32 and message to be printed is ALL IS WELL\n"
          ]
        }
      ],
      "source": [
        "#program for printing shirts sizes and a message that should be printed on the shirt.\n",
        "#chapter 7 excercise 3\n",
        "def make_shirt(size,message):  #using def to print size and msg\n",
        "  #display information about a student\n",
        "  print(f\"\\nThe size of the shirt is {size} and message to be printed is {message.upper()}\") #printing size and msg\n",
        "make_shirt(32, 'All is well')  #printing msg on the shirt"
      ]
    },
    {
      "cell_type": "code",
      "source": [],
      "metadata": {
        "id": "BGJVfoL1NjfM"
      },
      "execution_count": null,
      "outputs": []
    }
  ]
}