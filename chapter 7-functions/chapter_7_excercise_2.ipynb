{
  "nbformat": 4,
  "nbformat_minor": 0,
  "metadata": {
    "colab": {
      "provenance": [],
      "authorship_tag": "ABX9TyO5++9MPg65QJMn6bNM0hFb",
      "include_colab_link": true
    },
    "kernelspec": {
      "name": "python3",
      "display_name": "Python 3"
    },
    "language_info": {
      "name": "python"
    }
  },
  "cells": [
    {
      "cell_type": "markdown",
      "metadata": {
        "id": "view-in-github",
        "colab_type": "text"
      },
      "source": [
        "<a href=\"https://colab.research.google.com/github/Raheelsaeed007/raheel_codelab1/blob/main/chapter%207-functions/chapter_7_excercise_2.ipynb\" target=\"_parent\"><img src=\"https://colab.research.google.com/assets/colab-badge.svg\" alt=\"Open In Colab\"/></a>"
      ]
    },
    {
      "cell_type": "code",
      "execution_count": null,
      "metadata": {
        "colab": {
          "base_uri": "https://localhost:8080/"
        },
        "id": "a6F-Svszhv1j",
        "outputId": "57a509f4-531c-4f40-a151-c411c38af701"
      },
      "outputs": [
        {
          "output_type": "stream",
          "name": "stdout",
          "text": [
            "My favourite book is Diary Of A Wimpy Kid!\n"
          ]
        }
      ],
      "source": [
        "#Excercise 2\n",
        "#using def to assign a msg on my favourite book\n",
        "def favourite_book(bookname):  #bookname\n",
        "  print(f\"My favourite book is {bookname.title()}!\") #assigning a msg\n",
        "favourite_book('Diary of a wimpy kid') #printing msg"
      ]
    }
  ]
}