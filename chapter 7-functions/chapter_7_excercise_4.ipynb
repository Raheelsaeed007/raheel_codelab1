{
  "nbformat": 4,
  "nbformat_minor": 0,
  "metadata": {
    "colab": {
      "provenance": [],
      "authorship_tag": "ABX9TyM14O0l5RtXHRWBfZUgFCwE",
      "include_colab_link": true
    },
    "kernelspec": {
      "name": "python3",
      "display_name": "Python 3"
    },
    "language_info": {
      "name": "python"
    }
  },
  "cells": [
    {
      "cell_type": "markdown",
      "metadata": {
        "id": "view-in-github",
        "colab_type": "text"
      },
      "source": [
        "<a href=\"https://colab.research.google.com/github/Raheelsaeed007/raheel_codelab1/blob/main/chapter%207-functions/chapter_7_excercise_4.ipynb\" target=\"_parent\"><img src=\"https://colab.research.google.com/assets/colab-badge.svg\" alt=\"Open In Colab\"/></a>"
      ]
    },
    {
      "cell_type": "code",
      "source": [
        "#modify the make_shirt() function so that shirts are large by default\n",
        "def make_shirt(size='large',message='I love python'): #msg to be printed \n",
        "  #Information about the shirt\n",
        "  print(f\"\\nThe size of the shirt is {size} and message to be printed is {message.upper()}\")\n",
        "make_shirt()   #make shirt\n",
        "make_shirt(size='medium & large') #size of the shirt medium and large\n",
        "make_shirt(size='XL',message='we are coders'.upper())  #size of shirt XL"
      ],
      "metadata": {
        "colab": {
          "base_uri": "https://localhost:8080/"
        },
        "id": "j1f_S9GnL1x4",
        "outputId": "16e29abd-6a07-4622-f99a-2e4ccaff8cfd"
      },
      "execution_count": null,
      "outputs": [
        {
          "output_type": "stream",
          "name": "stdout",
          "text": [
            "\n",
            "The size of the shirt is large and message to be printed is I LOVE PYTHON\n",
            "\n",
            "The size of the shirt is medium & large and message to be printed is I LOVE PYTHON\n",
            "\n",
            "The size of the shirt is XL and message to be printed is WE ARE CODERS\n"
          ]
        }
      ]
    }
  ]
}