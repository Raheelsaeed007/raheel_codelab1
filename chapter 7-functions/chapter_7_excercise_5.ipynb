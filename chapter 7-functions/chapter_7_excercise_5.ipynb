{
  "nbformat": 4,
  "nbformat_minor": 0,
  "metadata": {
    "colab": {
      "provenance": [],
      "authorship_tag": "ABX9TyPNUUOmZ+AFUxTCfa9tvyJT",
      "include_colab_link": true
    },
    "kernelspec": {
      "name": "python3",
      "display_name": "Python 3"
    },
    "language_info": {
      "name": "python"
    }
  },
  "cells": [
    {
      "cell_type": "markdown",
      "metadata": {
        "id": "view-in-github",
        "colab_type": "text"
      },
      "source": [
        "<a href=\"https://colab.research.google.com/github/Raheelsaeed007/raheel_codelab1/blob/main/chapter%207-functions/chapter_7_excercise_5.ipynb\" target=\"_parent\"><img src=\"https://colab.research.google.com/assets/colab-badge.svg\" alt=\"Open In Colab\"/></a>"
      ]
    },
    {
      "cell_type": "code",
      "source": [
        "#3 different cities print it with their country name\n",
        "def describe_city(city,country='pakistan'): #using def to describe a city \n",
        "#Describe a city.\n",
        " print(f'\\n{city.title()} is in {country.title()}') #printing in new line\n",
        "#printing cities and their countries\n",
        "#cities\n",
        "describe_city('karachi')#city\n",
        "describe_city('lucknow','india')#city and country\n",
        "describe_city('colombo','srilanka')#cities and country"
      ],
      "metadata": {
        "colab": {
          "base_uri": "https://localhost:8080/"
        },
        "id": "8Omnbm70O2_c",
        "outputId": "60d37d98-bc36-4155-cd78-a1e2918e2348"
      },
      "execution_count": 1,
      "outputs": [
        {
          "output_type": "stream",
          "name": "stdout",
          "text": [
            "\n",
            "Karachi is in Pakistan\n",
            "\n",
            "Lucknow is in India\n",
            "\n",
            "Colombo is in Srilanka\n"
          ]
        }
      ]
    }
  ]
}