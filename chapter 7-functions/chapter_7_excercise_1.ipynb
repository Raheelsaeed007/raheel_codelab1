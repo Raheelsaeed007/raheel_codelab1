{
  "nbformat": 4,
  "nbformat_minor": 0,
  "metadata": {
    "colab": {
      "provenance": [],
      "authorship_tag": "ABX9TyOa8MThv2T041rvrdQgyy6J",
      "include_colab_link": true
    },
    "kernelspec": {
      "name": "python3",
      "display_name": "Python 3"
    },
    "language_info": {
      "name": "python"
    }
  },
  "cells": [
    {
      "cell_type": "markdown",
      "metadata": {
        "id": "view-in-github",
        "colab_type": "text"
      },
      "source": [
        "<a href=\"https://colab.research.google.com/github/Raheelsaeed007/raheel_codelab1/blob/main/chapter%207-functions/chapter_7_excercise_1.ipynb\" target=\"_parent\"><img src=\"https://colab.research.google.com/assets/colab-badge.svg\" alt=\"Open In Colab\"/></a>"
      ]
    },
    {
      "cell_type": "code",
      "execution_count": null,
      "metadata": {
        "colab": {
          "base_uri": "https://localhost:8080/"
        },
        "id": "bYpVGVTmhXSY",
        "outputId": "4dea0fb8-c6f9-4cd6-ed0f-9b61090fc572"
      },
      "outputs": [
        {
          "output_type": "stream",
          "name": "stdout",
          "text": [
            "hello world!\n"
          ]
        }
      ],
      "source": [
        "#Excercise 1\n",
        "#using def to greet users\n",
        "def greet_user():\n",
        "  print(\"hello world!\") #printing message\n",
        "greet_user()"
      ]
    }
  ]
}