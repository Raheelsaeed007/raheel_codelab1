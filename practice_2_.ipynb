{
  "nbformat": 4,
  "nbformat_minor": 0,
  "metadata": {
    "colab": {
      "provenance": [],
      "authorship_tag": "ABX9TyPf6SapIhFm5PjUbMjA333w",
      "include_colab_link": true
    },
    "kernelspec": {
      "name": "python3",
      "display_name": "Python 3"
    },
    "language_info": {
      "name": "python"
    }
  },
  "cells": [
    {
      "cell_type": "markdown",
      "metadata": {
        "id": "view-in-github",
        "colab_type": "text"
      },
      "source": [
        "<a href=\"https://colab.research.google.com/github/Raheelsaeed007/raheel_codelab1/blob/main/practice_2_.ipynb\" target=\"_parent\"><img src=\"https://colab.research.google.com/assets/colab-badge.svg\" alt=\"Open In Colab\"/></a>"
      ]
    },
    {
      "cell_type": "code",
      "source": [
        "sentence_1='Today is 6 october,2022,Thursday'#todays date\n",
        "print(sentence_1)#printing sentence\n"
      ],
      "metadata": {
        "colab": {
          "base_uri": "https://localhost:8080/"
        },
        "id": "0jsjeGf206E7",
        "outputId": "850196b9-0131-4e3b-c854-be16e3dcd32a"
      },
      "execution_count": null,
      "outputs": [
        {
          "output_type": "stream",
          "name": "stdout",
          "text": [
            "Today is 6 october,2022,Thursday\n"
          ]
        }
      ]
    },
    {
      "cell_type": "code",
      "source": [
        "w=float(input(\"inser the width\"))#using float \n",
        "a=float(input(\"insert the area\"))#using float\n",
        "a= w*a\n",
        "print(a)#printing"
      ],
      "metadata": {
        "colab": {
          "base_uri": "https://localhost:8080/"
        },
        "id": "bMm-IHsj3srR",
        "outputId": "c0f117f7-e60a-41f4-8c8e-c8e1952b47c6"
      },
      "execution_count": 2,
      "outputs": [
        {
          "output_type": "stream",
          "name": "stdout",
          "text": [
            "inser the width5\n",
            "insert the area4\n",
            "20.0\n"
          ]
        }
      ]
    },
    {
      "cell_type": "code",
      "source": [
        "Circle_1=2\n",
        "circle_decimal=2.5\n",
        "circle_complex=3+6j\n",
        "print(Circle_1, circle_decimal, circle_complex)#printing complex sentence"
      ],
      "metadata": {
        "colab": {
          "base_uri": "https://localhost:8080/"
        },
        "id": "sKy43X3R22sX",
        "outputId": "544a95f6-6201-4adb-b4c2-c5ccebda9134"
      },
      "execution_count": null,
      "outputs": [
        {
          "output_type": "stream",
          "name": "stdout",
          "text": [
            "2 2.5 (3+6j)\n"
          ]
        }
      ]
    },
    {
      "cell_type": "code",
      "source": [
        "print(\"Type of x is\", type(x))#a type\n",
        "print(\"Type of y is\", type(y))#b type\n",
        "print(\"type of z is\",type(z))#c type"
      ],
      "metadata": {
        "colab": {
          "base_uri": "https://localhost:8080/"
        },
        "id": "dE9lva994WTH",
        "outputId": "aeee9f3a-edbf-40b9-ae2c-eb13a4d29058"
      },
      "execution_count": null,
      "outputs": [
        {
          "output_type": "stream",
          "name": "stdout",
          "text": [
            "Type of x is <class 'int'>\n",
            "Type of y is <class 'float'>\n",
            "type of z is <class 'complex'>\n"
          ]
        }
      ]
    },
    {
      "cell_type": "code",
      "source": [
        "#inviting guests for dinner tonight\n",
        "guest_list=[\"awais\",\"fawaz\",\"imran\",\"ahmed\"]\n",
        "print(\"kindly visit my house tonight for dinner,\"+guest_list[0].title()+\".\")#guest 1\n",
        "print(\"kindly visit my house tonight for dinner,\"+guest_list[1].title()+\".\")#guest 2\n",
        "print(\"kindly visit my house tonight for dinner,\"+guest_list[2].title()+\".\")#guest 3\n",
        "print(\"kindly visit my house tonight for dinner,\"+guest_list[3].title()+\".\")#guest 4"
      ],
      "metadata": {
        "colab": {
          "base_uri": "https://localhost:8080/"
        },
        "id": "rRXd3LMl4snA",
        "outputId": "6d42e5fd-c0de-43dc-d34d-595ca3aeb767"
      },
      "execution_count": 3,
      "outputs": [
        {
          "output_type": "stream",
          "name": "stdout",
          "text": [
            "kindly visit my house tonight for dinner,Awais.\n",
            "kindly visit my house tonight for dinner,Fawaz.\n",
            "kindly visit my house tonight for dinner,Imran.\n",
            "kindly visit my house tonight for dinner,Ahmed.\n"
          ]
        }
      ]
    },
    {
      "cell_type": "code",
      "source": [
        "#glossary\n",
        "glossary={\n",
        "    'concatenate':'to join two strings.',\n",
        "    'for loops':'for loops are used to perform some action on each item on a list',\n",
        "    'lists':'lists are used to store multiple objects together'\n",
        "}\n",
        "print('concatenate:')#concatination\n",
        "print(glossary['concatenate'])#concatination\n",
        "print('for loops:')\n",
        "print(glossary['for loops'])#loops"
      ],
      "metadata": {
        "colab": {
          "base_uri": "https://localhost:8080/"
        },
        "id": "IS9zPcmC5FCr",
        "outputId": "89ae9790-b9d0-409e-acd3-f94b7361e826"
      },
      "execution_count": 4,
      "outputs": [
        {
          "output_type": "stream",
          "name": "stdout",
          "text": [
            "concatenate:\n",
            "to join two strings.\n",
            "for loops:\n",
            "for loops are used to perform some action on each item on a list\n"
          ]
        }
      ]
    },
    {
      "cell_type": "code",
      "source": [
        "student={'name':'Raheel','id':'2022435','course':'creative computing',}#my introduction\n",
        "print(student)\n",
        "print(student['name'])#my name\n",
        "print(student['id'])#my id\n",
        "print(student['course'])#my course\n"
      ],
      "metadata": {
        "colab": {
          "base_uri": "https://localhost:8080/"
        },
        "id": "oFafPxrP5I53",
        "outputId": "16dbcf98-1afa-4628-e362-f65aa438d694"
      },
      "execution_count": 5,
      "outputs": [
        {
          "output_type": "stream",
          "name": "stdout",
          "text": [
            "{'name': 'Raheel', 'id': '2022435', 'course': 'creative computing'}\n",
            "Raheel\n",
            "2022435\n",
            "creative computing\n"
          ]
        }
      ]
    },
    {
      "cell_type": "code",
      "source": [
        "flowers=['rose','lily','tulip']#flowers list or name\n",
        "print(flowers)\n",
        "print(flowers[0])#flowers arrangement\n",
        "print(flowers[1])\n",
        "print(flowers[2])\n",
        "flowers[0]=\"orchid\"\n",
        "print(flowers)\n",
        "flowers.append(\"sunflower\")\n",
        "print(flowers)\n",
        "flowers.insert(1,\"carnation\")\n",
        "print(flowers)\n",
        "flowers.remove('lily')\n",
        "print(flowers)\n",
        "popped=flowers.pop()#pop function\n",
        "print(flowers)\n",
        "print(popped)\n",
        "flowers.sort()\n",
        "print(flowers)\n",
        "flowers.reverse()\n",
        "print(flowers)\n",
        "del flowers[0:2]#using del function"
      ],
      "metadata": {
        "colab": {
          "base_uri": "https://localhost:8080/"
        },
        "id": "wyEUlGYs5Lp-",
        "outputId": "cbeb7de6-bc55-4ff0-c122-7b3cec007b81"
      },
      "execution_count": 6,
      "outputs": [
        {
          "output_type": "stream",
          "name": "stdout",
          "text": [
            "['rose', 'lily', 'tulip']\n",
            "rose\n",
            "lily\n",
            "tulip\n",
            "['orchid', 'lily', 'tulip']\n",
            "['orchid', 'lily', 'tulip', 'sunflower']\n",
            "['orchid', 'carnation', 'lily', 'tulip', 'sunflower']\n",
            "['orchid', 'carnation', 'tulip', 'sunflower']\n",
            "['orchid', 'carnation', 'tulip']\n",
            "sunflower\n",
            "['carnation', 'orchid', 'tulip']\n",
            "['tulip', 'orchid', 'carnation']\n"
          ]
        }
      ]
    }
  ]
}